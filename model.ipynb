{
 "cells": [
  {
   "cell_type": "markdown",
   "metadata": {},
   "source": [
    "# Artificial Neural Network (ANN) From Scratch 🧠"
   ]
  },
  {
   "cell_type": "markdown",
   "metadata": {},
   "source": [
    "### Import Libraries ⬆️"
   ]
  },
  {
   "cell_type": "code",
   "execution_count": 164,
   "metadata": {},
   "outputs": [],
   "source": [
    "import numpy as np\n",
    "import pandas as pd\n",
    "from matplotlib import pyplot as plt\n",
    "from tqdm import tqdm"
   ]
  },
  {
   "cell_type": "markdown",
   "metadata": {},
   "source": [
    "### Read-In Data 📕"
   ]
  },
  {
   "cell_type": "code",
   "execution_count": 165,
   "metadata": {},
   "outputs": [
    {
     "data": {
      "text/html": [
       "<div>\n",
       "<style scoped>\n",
       "    .dataframe tbody tr th:only-of-type {\n",
       "        vertical-align: middle;\n",
       "    }\n",
       "\n",
       "    .dataframe tbody tr th {\n",
       "        vertical-align: top;\n",
       "    }\n",
       "\n",
       "    .dataframe thead th {\n",
       "        text-align: right;\n",
       "    }\n",
       "</style>\n",
       "<table border=\"1\" class=\"dataframe\">\n",
       "  <thead>\n",
       "    <tr style=\"text-align: right;\">\n",
       "      <th></th>\n",
       "      <th>label</th>\n",
       "      <th>pixel0</th>\n",
       "      <th>pixel1</th>\n",
       "      <th>pixel2</th>\n",
       "      <th>pixel3</th>\n",
       "      <th>pixel4</th>\n",
       "      <th>pixel5</th>\n",
       "      <th>pixel6</th>\n",
       "      <th>pixel7</th>\n",
       "      <th>pixel8</th>\n",
       "      <th>...</th>\n",
       "      <th>pixel774</th>\n",
       "      <th>pixel775</th>\n",
       "      <th>pixel776</th>\n",
       "      <th>pixel777</th>\n",
       "      <th>pixel778</th>\n",
       "      <th>pixel779</th>\n",
       "      <th>pixel780</th>\n",
       "      <th>pixel781</th>\n",
       "      <th>pixel782</th>\n",
       "      <th>pixel783</th>\n",
       "    </tr>\n",
       "  </thead>\n",
       "  <tbody>\n",
       "    <tr>\n",
       "      <th>0</th>\n",
       "      <td>1</td>\n",
       "      <td>0</td>\n",
       "      <td>0</td>\n",
       "      <td>0</td>\n",
       "      <td>0</td>\n",
       "      <td>0</td>\n",
       "      <td>0</td>\n",
       "      <td>0</td>\n",
       "      <td>0</td>\n",
       "      <td>0</td>\n",
       "      <td>...</td>\n",
       "      <td>0</td>\n",
       "      <td>0</td>\n",
       "      <td>0</td>\n",
       "      <td>0</td>\n",
       "      <td>0</td>\n",
       "      <td>0</td>\n",
       "      <td>0</td>\n",
       "      <td>0</td>\n",
       "      <td>0</td>\n",
       "      <td>0</td>\n",
       "    </tr>\n",
       "    <tr>\n",
       "      <th>1</th>\n",
       "      <td>0</td>\n",
       "      <td>0</td>\n",
       "      <td>0</td>\n",
       "      <td>0</td>\n",
       "      <td>0</td>\n",
       "      <td>0</td>\n",
       "      <td>0</td>\n",
       "      <td>0</td>\n",
       "      <td>0</td>\n",
       "      <td>0</td>\n",
       "      <td>...</td>\n",
       "      <td>0</td>\n",
       "      <td>0</td>\n",
       "      <td>0</td>\n",
       "      <td>0</td>\n",
       "      <td>0</td>\n",
       "      <td>0</td>\n",
       "      <td>0</td>\n",
       "      <td>0</td>\n",
       "      <td>0</td>\n",
       "      <td>0</td>\n",
       "    </tr>\n",
       "    <tr>\n",
       "      <th>2</th>\n",
       "      <td>1</td>\n",
       "      <td>0</td>\n",
       "      <td>0</td>\n",
       "      <td>0</td>\n",
       "      <td>0</td>\n",
       "      <td>0</td>\n",
       "      <td>0</td>\n",
       "      <td>0</td>\n",
       "      <td>0</td>\n",
       "      <td>0</td>\n",
       "      <td>...</td>\n",
       "      <td>0</td>\n",
       "      <td>0</td>\n",
       "      <td>0</td>\n",
       "      <td>0</td>\n",
       "      <td>0</td>\n",
       "      <td>0</td>\n",
       "      <td>0</td>\n",
       "      <td>0</td>\n",
       "      <td>0</td>\n",
       "      <td>0</td>\n",
       "    </tr>\n",
       "    <tr>\n",
       "      <th>3</th>\n",
       "      <td>4</td>\n",
       "      <td>0</td>\n",
       "      <td>0</td>\n",
       "      <td>0</td>\n",
       "      <td>0</td>\n",
       "      <td>0</td>\n",
       "      <td>0</td>\n",
       "      <td>0</td>\n",
       "      <td>0</td>\n",
       "      <td>0</td>\n",
       "      <td>...</td>\n",
       "      <td>0</td>\n",
       "      <td>0</td>\n",
       "      <td>0</td>\n",
       "      <td>0</td>\n",
       "      <td>0</td>\n",
       "      <td>0</td>\n",
       "      <td>0</td>\n",
       "      <td>0</td>\n",
       "      <td>0</td>\n",
       "      <td>0</td>\n",
       "    </tr>\n",
       "    <tr>\n",
       "      <th>4</th>\n",
       "      <td>0</td>\n",
       "      <td>0</td>\n",
       "      <td>0</td>\n",
       "      <td>0</td>\n",
       "      <td>0</td>\n",
       "      <td>0</td>\n",
       "      <td>0</td>\n",
       "      <td>0</td>\n",
       "      <td>0</td>\n",
       "      <td>0</td>\n",
       "      <td>...</td>\n",
       "      <td>0</td>\n",
       "      <td>0</td>\n",
       "      <td>0</td>\n",
       "      <td>0</td>\n",
       "      <td>0</td>\n",
       "      <td>0</td>\n",
       "      <td>0</td>\n",
       "      <td>0</td>\n",
       "      <td>0</td>\n",
       "      <td>0</td>\n",
       "    </tr>\n",
       "  </tbody>\n",
       "</table>\n",
       "<p>5 rows × 785 columns</p>\n",
       "</div>"
      ],
      "text/plain": [
       "   label  pixel0  pixel1  pixel2  pixel3  pixel4  pixel5  pixel6  pixel7  \\\n",
       "0      1       0       0       0       0       0       0       0       0   \n",
       "1      0       0       0       0       0       0       0       0       0   \n",
       "2      1       0       0       0       0       0       0       0       0   \n",
       "3      4       0       0       0       0       0       0       0       0   \n",
       "4      0       0       0       0       0       0       0       0       0   \n",
       "\n",
       "   pixel8  ...  pixel774  pixel775  pixel776  pixel777  pixel778  pixel779  \\\n",
       "0       0  ...         0         0         0         0         0         0   \n",
       "1       0  ...         0         0         0         0         0         0   \n",
       "2       0  ...         0         0         0         0         0         0   \n",
       "3       0  ...         0         0         0         0         0         0   \n",
       "4       0  ...         0         0         0         0         0         0   \n",
       "\n",
       "   pixel780  pixel781  pixel782  pixel783  \n",
       "0         0         0         0         0  \n",
       "1         0         0         0         0  \n",
       "2         0         0         0         0  \n",
       "3         0         0         0         0  \n",
       "4         0         0         0         0  \n",
       "\n",
       "[5 rows x 785 columns]"
      ]
     },
     "execution_count": 165,
     "metadata": {},
     "output_type": "execute_result"
    }
   ],
   "source": [
    "# Read in Data and Display First Few Rows\n",
    "df = pd.read_csv(\"train.csv\")\n",
    "df.head()"
   ]
  },
  {
   "cell_type": "markdown",
   "metadata": {},
   "source": [
    "### Split into Different Sets ⛓️‍💥"
   ]
  },
  {
   "cell_type": "code",
   "execution_count": 166,
   "metadata": {},
   "outputs": [],
   "source": [
    "# Convert To Numpy Array for Math Operations\n",
    "data = np.array(df)\n",
    "\n",
    "\"\"\"\n",
    "-- m = # of Rows, corresponding to examples.\n",
    "-- n = # of Columns, correspoding to features.\n",
    "\"\"\"\n",
    "m, n = data.shape\n",
    "np.random.shuffle(data)\n",
    "\n",
    "# X & Y Train Sets\n",
    "data_train = data[1000:m].T\n",
    "X_train = data_train[1:n]\n",
    "Y_train = data_train[0]\n",
    "X_train = X_train / 255.\n",
    "_,m_train = X_train.shape"
   ]
  },
  {
   "cell_type": "markdown",
   "metadata": {},
   "source": [
    "### Initialize Parameters 🧮"
   ]
  },
  {
   "cell_type": "code",
   "execution_count": 167,
   "metadata": {},
   "outputs": [],
   "source": [
    "# Randomly Initialize Paramters for the Model to Update\n",
    "def initialize_parameters():\n",
    "    \"\"\"\n",
    "    Randomly intialize parameters for the model to update.\n",
    "    \n",
    "    Parameters:\n",
    "        None\n",
    "    \n",
    "    Returns:\n",
    "        Weights and Biases Matrix for each layer\n",
    "    \"\"\"\n",
    "\n",
    "    W_1 = np.random.rand(10, 784) - 0.5\n",
    "    b_1 = np.random.rand(10, 1) - 0.5\n",
    "    W_2 = np.random.rand(10, 10) - 0.5\n",
    "    b_2 = np.random.rand(10, 1) - 0.5\n",
    "\n",
    "    return W_1, b_1, W_2, b_2"
   ]
  },
  {
   "cell_type": "markdown",
   "metadata": {},
   "source": [
    "### Define Activation & Required Functions 🔋"
   ]
  },
  {
   "cell_type": "code",
   "execution_count": 496,
   "metadata": {},
   "outputs": [],
   "source": [
    "# Define ReLU (Rectified Linear Unit) Activation Function\n",
    "def ReLU(Z):\n",
    "    \"\"\"\n",
    "    Compute the ReLU for each element in the vector Z.\n",
    "    \n",
    "    Parameters:\n",
    "        Z (numpy array)\n",
    "    \n",
    "    Returns:\n",
    "        numpy array: ReLU activated values in the same shape as Z.\n",
    "    \"\"\"\n",
    "    return np.maximum(Z, 0)\n",
    "\n",
    "def one_hot(Y):\n",
    "    \"\"\"\n",
    "    One-Hot Encode a Vector Y for backprop.\n",
    "    \n",
    "    Parameters:\n",
    "        Y (Numpy Array)\n",
    "    \n",
    "    Returns:\n",
    "        numpy array: Hot-encoded Y.\n",
    "    \"\"\"\n",
    "    one_hot_Y = np.zeros((Y.size, Y.max() + 1))\n",
    "    one_hot_Y[np.arange(Y.size), Y] = 1\n",
    "    one_hot_Y = one_hot_Y.T\n",
    "    return one_hot_Y\n",
    "\n",
    "def deriv_ReLU(Z):\n",
    "    \"\"\"\n",
    "    Compute the derivative of the ReLU Activation Function for backprop.\n",
    "    \n",
    "    Parameters:\n",
    "        Z (numpy array): Input array.\n",
    "    \n",
    "    Returns:\n",
    "        numpy array: Computed ReLU Derivative Values (0 or Z)\n",
    "    \"\"\"\n",
    "    return Z > 0\n",
    "\n",
    "# Define Softmax Function (Converts Probs ==> Outputs)\n",
    "def softmax(Z):\n",
    "    \"\"\"\n",
    "    Compute the softmax for each element in the vector Z.\n",
    "    \n",
    "    Parameters:\n",
    "        Z (numpy array): Input array.\n",
    "    \n",
    "    Returns:\n",
    "        numpy array: Softmax probabilities of the same shape as Z.\n",
    "    \"\"\"\n",
    "    return np.exp(Z) / sum(np.exp(Z))"
   ]
  },
  {
   "cell_type": "markdown",
   "metadata": {},
   "source": [
    "### Define Forward & Backwards Propagation 🤖"
   ]
  },
  {
   "cell_type": "code",
   "execution_count": 169,
   "metadata": {},
   "outputs": [],
   "source": [
    "# Define Forward Propagation (Model Makes Prediction)\n",
    "def forward_prop(W_1, b_1, W_2, b_2, X):\n",
    "    \"\"\"\n",
    "    Make predictions based on input data.\n",
    "    \n",
    "    Parameters:\n",
    "        Weights (1 & 2), Biases (1 & 2), & Input Matrix X\n",
    "    \n",
    "    Returns:\n",
    "        Z_1, A_1, Z_2, A_2\n",
    "    \"\"\"\n",
    "    Z_1 = W_1.dot(X) + b_1\n",
    "    A_1 = ReLU(Z_1)\n",
    "    Z_2 = W_2.dot(A_1) + b_2\n",
    "    A_2 = softmax(Z_2)\n",
    "\n",
    "    return Z_1, A_1, Z_2, A_2\n",
    "\n",
    "# Define Backwards Propagation (Model Updates Params)\n",
    "def backward_prop(Z_1, A_1, Z_2, A_2, W_1, W_2, X, Y):\n",
    "    \"\"\"\n",
    "    Finds source of error and computes errors.\n",
    "    \n",
    "    Parameters:\n",
    "        Predictions, Weights, Training Data (X & Y)\n",
    "    \n",
    "    Returns:\n",
    "        Updated Params: Z_1, A_1, Z_2, A_2, W_1, W_2, X, Y\n",
    "    \"\"\"\n",
    "    one_hot_Y = one_hot(Y)\n",
    "    dZ_2 = A_2 - one_hot_Y\n",
    "    dW_2 = 1 / m * dZ_2.dot(A_1.T)\n",
    "    db_2 = 1 / m * np.sum(dZ_2)\n",
    "    dZ_1 = W_2.T.dot(dZ_2) * deriv_ReLU(Z_1)\n",
    "    dW_1 = 1 / m * dZ_1.dot(X.T)\n",
    "    db_1 = 1 / m * np.sum(dZ_1)\n",
    "    return dW_1, db_1, dW_2, db_2"
   ]
  },
  {
   "cell_type": "markdown",
   "metadata": {},
   "source": [
    "### Update Parameters 🔂"
   ]
  },
  {
   "cell_type": "code",
   "execution_count": 170,
   "metadata": {},
   "outputs": [],
   "source": [
    "def update_params(W_1, b_1, W_2, b_2, dW_1, db_1, dW_2, db_2, lr):\n",
    "    \"\"\"\n",
    "    Updates weights/biases for the model to learn.\n",
    "    \n",
    "    Parameters:\n",
    "        Weights, Biases, Penalties, learning rate.\n",
    "    \n",
    "    Returns:\n",
    "        Updated Params: W_1, b_1, W_2, b_2, dW_1, db_1, dW_2, db_2, lr\n",
    "    \"\"\"\n",
    "    W_1 = W_1 - (lr * dW_1)\n",
    "    b_1 = b_1 - (lr * db_1)\n",
    "    W_2 = W_2 - (lr * dW_2)\n",
    "    b_2 = b_2 - (lr * db_2)\n",
    "    return W_1, b_1, W_2, b_2\n",
    "\n",
    "def get_preds(A_2):\n",
    "    return np.argmax(A_2, 0)\n",
    "\n",
    "def get_accuracy(predictions, Y):\n",
    "    return np.sum(predictions == Y) / Y.size\n",
    "\n",
    "def gradient_descent(X, Y, iterations, lr):\n",
    "    W_1, b_1, W_2, b_2 = initialize_parameters()\n",
    "    for i in tqdm(range(iterations)):\n",
    "        Z_1, A_1, Z_2, A_2 = forward_prop(W_1, b_1, W_2, b_2, X)\n",
    "        dW_1, db_1, dW_2, db_2 = backward_prop(Z_1, A_1, Z_2, A_2, W_1, W_2, X, Y)\n",
    "        W_1, b_1, W_2, b_2 = update_params(W_1, b_1, W_2, b_2, dW_1, db_1, dW_2, db_2, lr)\n",
    "        \n",
    "    print(\"Accuracy: \", get_accuracy(get_preds(A_2), Y))\n",
    "    return W_1, b_1, W_2, b_2"
   ]
  },
  {
   "cell_type": "code",
   "execution_count": 251,
   "metadata": {},
   "outputs": [
    {
     "name": "stderr",
     "output_type": "stream",
     "text": [
      "  0%|          | 0/20000 [00:00<?, ?it/s]"
     ]
    },
    {
     "name": "stderr",
     "output_type": "stream",
     "text": [
      "100%|██████████| 20000/20000 [21:50<00:00, 15.26it/s]"
     ]
    },
    {
     "name": "stdout",
     "output_type": "stream",
     "text": [
      "Accuracy:  0.9490487804878048\n"
     ]
    },
    {
     "name": "stderr",
     "output_type": "stream",
     "text": [
      "\n"
     ]
    }
   ],
   "source": [
    "W_1, b_1, W_2, b_2 = gradient_descent(X_train, Y_train, 20000, 0.1)"
   ]
  },
  {
   "cell_type": "code",
   "execution_count": 252,
   "metadata": {},
   "outputs": [],
   "source": [
    "def make_predictions(X, W1, b1, W2, b2):\n",
    "    _, _, _, A2 = forward_prop(W1, b1, W2, b2, X)\n",
    "    predictions = get_preds(A2)\n",
    "    return predictions\n",
    "\n",
    "def test_prediction(index, W1, b1, W2, b2):\n",
    "    current_image = X_train[:, index, None]\n",
    "    prediction = make_predictions(X_train[:, index, None], W1, b1, W2, b2)\n",
    "    label = Y_train[index]\n",
    "    print(\"Prediction: \", prediction)\n",
    "    print(\"Label: \", label)\n",
    "    \n",
    "    current_image = current_image.reshape((28, 28)) * 255\n",
    "    plt.gray()\n",
    "    plt.imshow(current_image, interpolation='nearest')\n",
    "    plt.show()"
   ]
  },
  {
   "cell_type": "code",
   "execution_count": 495,
   "metadata": {},
   "outputs": [
    {
     "name": "stdout",
     "output_type": "stream",
     "text": [
      "Prediction:  [5]\n",
      "Label:  5\n"
     ]
    },
    {
     "data": {
      "image/png": "[encoded data removed]",
      "text/plain": [
       "<Figure size 640x480 with 1 Axes>"
      ]
     },
     "metadata": {},
     "output_type": "display_data"
    }
   ],
   "source": [
    "r = round(np.random.rand() * 100)\n",
    "test_prediction(r, W_1, b_1, W_2, b_2)"
   ]
  }
 ],
 "metadata": {
  "kernelspec": {
   "display_name": "Python 3",
   "language": "python",
   "name": "python3"
  },
  "language_info": {
   "codemirror_mode": {
    "name": "ipython",
    "version": 3
   },
   "file_extension": ".py",
   "mimetype": "text/x-python",
   "name": "python",
   "nbconvert_exporter": "python",
   "pygments_lexer": "ipython3",
   "version": "3.9.6"
  },
  "orig_nbformat": 4
 },
 "nbformat": 4,
 "nbformat_minor": 2
}
